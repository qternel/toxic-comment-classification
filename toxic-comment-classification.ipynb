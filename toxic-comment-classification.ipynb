{
 "cells": [
  {
   "cell_type": "markdown",
   "id": "c560f511-cb1d-49ff-9e51-d25addd81f8d",
   "metadata": {},
   "source": [
    "## Step 1. EDA"
   ]
  },
  {
   "cell_type": "code",
   "execution_count": 1,
   "id": "e458bb02-1459-4753-ad51-0e443c3821c8",
   "metadata": {},
   "outputs": [],
   "source": [
    "import pandas as pd"
   ]
  },
  {
   "cell_type": "code",
   "execution_count": 2,
   "id": "deb82a1d-5146-4a25-991c-7ae2fb044d28",
   "metadata": {},
   "outputs": [],
   "source": [
    "df = pd.read_csv('data/train.csv', nrows=1000,\n",
    "                 dtype={'toxic':'int8',\n",
    "                        'severe_toxic':'int8',\n",
    "                        'obscene':'int8', \n",
    "                        'threat':'int8',\n",
    "                        'insult':'int8',\n",
    "                        'identity_hate':'int8'}).sample(frac=1, random_state=66136).reset_index(drop=True)"
   ]
  },
  {
   "cell_type": "code",
   "execution_count": 3,
   "id": "554405a2-d1dd-4584-9c60-3ea86674a080",
   "metadata": {},
   "outputs": [],
   "source": [
    "pd.set_option('display.max_colwidth', None)"
   ]
  },
  {
   "cell_type": "code",
   "execution_count": 4,
   "id": "a4489396-63a9-484e-822a-549e93bba218",
   "metadata": {},
   "outputs": [
    {
     "data": {
      "text/html": [
       "<div>\n",
       "<style scoped>\n",
       "    .dataframe tbody tr th:only-of-type {\n",
       "        vertical-align: middle;\n",
       "    }\n",
       "\n",
       "    .dataframe tbody tr th {\n",
       "        vertical-align: top;\n",
       "    }\n",
       "\n",
       "    .dataframe thead th {\n",
       "        text-align: right;\n",
       "    }\n",
       "</style>\n",
       "<table border=\"1\" class=\"dataframe\">\n",
       "  <thead>\n",
       "    <tr style=\"text-align: right;\">\n",
       "      <th></th>\n",
       "      <th>id</th>\n",
       "      <th>comment_text</th>\n",
       "      <th>toxic</th>\n",
       "      <th>severe_toxic</th>\n",
       "      <th>obscene</th>\n",
       "      <th>threat</th>\n",
       "      <th>insult</th>\n",
       "      <th>identity_hate</th>\n",
       "    </tr>\n",
       "  </thead>\n",
       "  <tbody>\n",
       "    <tr>\n",
       "      <th>0</th>\n",
       "      <td>003a19c04c079bf7</td>\n",
       "      <td>LACK OF BALANCE\\r\\n\\r\\nThis article is seriously out of balance.  It would benefit greatly from the introduction of additional information about the negative aspects of the T-34.  Just for the record, this sort of balance problem is not uncommon when there is an over dependence on the works of a particular author.  For example, testing and evaluation of a T-34 by the US Army Ordnance Dept. exposed some very serious problems with the tank.  This type of information should be included in the article to bring it back into balance.</td>\n",
       "      <td>0</td>\n",
       "      <td>0</td>\n",
       "      <td>0</td>\n",
       "      <td>0</td>\n",
       "      <td>0</td>\n",
       "      <td>0</td>\n",
       "    </tr>\n",
       "    <tr>\n",
       "      <th>1</th>\n",
       "      <td>001ffdcc3e7fb49c</td>\n",
       "      <td>Awesome! Then I'll simply disregard your notice. Thanks!</td>\n",
       "      <td>0</td>\n",
       "      <td>0</td>\n",
       "      <td>0</td>\n",
       "      <td>0</td>\n",
       "      <td>0</td>\n",
       "      <td>0</td>\n",
       "    </tr>\n",
       "    <tr>\n",
       "      <th>2</th>\n",
       "      <td>0294749a6add04c9</td>\n",
       "      <td>Feather \\r\\n\\r\\nThere is no citation as to how a quill looked in the past. Therefore, it is opinion only.</td>\n",
       "      <td>0</td>\n",
       "      <td>0</td>\n",
       "      <td>0</td>\n",
       "      <td>0</td>\n",
       "      <td>0</td>\n",
       "      <td>0</td>\n",
       "    </tr>\n",
       "    <tr>\n",
       "      <th>3</th>\n",
       "      <td>009a3333aa4ac011</td>\n",
       "      <td>|listas = Sabina of Bavaria</td>\n",
       "      <td>0</td>\n",
       "      <td>0</td>\n",
       "      <td>0</td>\n",
       "      <td>0</td>\n",
       "      <td>0</td>\n",
       "      <td>0</td>\n",
       "    </tr>\n",
       "    <tr>\n",
       "      <th>4</th>\n",
       "      <td>00a216c00b90ce88</td>\n",
       "      <td>Gore response \\r\\n\\r\\nCan anybody find Gore's response to Bush's malaprop? Why didn't Gore, as the inventor of the darn thing, club him silly after that one?</td>\n",
       "      <td>0</td>\n",
       "      <td>0</td>\n",
       "      <td>0</td>\n",
       "      <td>0</td>\n",
       "      <td>0</td>\n",
       "      <td>0</td>\n",
       "    </tr>\n",
       "  </tbody>\n",
       "</table>\n",
       "</div>"
      ],
      "text/plain": [
       "                 id  \\\n",
       "0  003a19c04c079bf7   \n",
       "1  001ffdcc3e7fb49c   \n",
       "2  0294749a6add04c9   \n",
       "3  009a3333aa4ac011   \n",
       "4  00a216c00b90ce88   \n",
       "\n",
       "                                                                                                                                                                                                                                                                                                                                                                                                                                                                                                                                            comment_text  \\\n",
       "0  LACK OF BALANCE\\r\\n\\r\\nThis article is seriously out of balance.  It would benefit greatly from the introduction of additional information about the negative aspects of the T-34.  Just for the record, this sort of balance problem is not uncommon when there is an over dependence on the works of a particular author.  For example, testing and evaluation of a T-34 by the US Army Ordnance Dept. exposed some very serious problems with the tank.  This type of information should be included in the article to bring it back into balance.   \n",
       "1                                                                                                                                                                                                                                                                                                                                                                                                                                                                                               Awesome! Then I'll simply disregard your notice. Thanks!   \n",
       "2                                                                                                                                                                                                                                                                                                                                                                                                                                              Feather \\r\\n\\r\\nThere is no citation as to how a quill looked in the past. Therefore, it is opinion only.   \n",
       "3                                                                                                                                                                                                                                                                                                                                                                                                                                                                                                                            |listas = Sabina of Bavaria   \n",
       "4                                                                                                                                                                                                                                                                                                                                                                                          Gore response \\r\\n\\r\\nCan anybody find Gore's response to Bush's malaprop? Why didn't Gore, as the inventor of the darn thing, club him silly after that one?   \n",
       "\n",
       "   toxic  severe_toxic  obscene  threat  insult  identity_hate  \n",
       "0      0             0        0       0       0              0  \n",
       "1      0             0        0       0       0              0  \n",
       "2      0             0        0       0       0              0  \n",
       "3      0             0        0       0       0              0  \n",
       "4      0             0        0       0       0              0  "
      ]
     },
     "execution_count": 4,
     "metadata": {},
     "output_type": "execute_result"
    }
   ],
   "source": [
    "df.head()"
   ]
  },
  {
   "cell_type": "code",
   "execution_count": 5,
   "id": "67334dc7-6ac9-41c0-b432-9a81b5b05856",
   "metadata": {},
   "outputs": [
    {
     "name": "stdout",
     "output_type": "stream",
     "text": [
      "<class 'pandas.core.frame.DataFrame'>\n",
      "RangeIndex: 1000 entries, 0 to 999\n",
      "Data columns (total 8 columns):\n",
      " #   Column         Non-Null Count  Dtype \n",
      "---  ------         --------------  ----- \n",
      " 0   id             1000 non-null   object\n",
      " 1   comment_text   1000 non-null   object\n",
      " 2   toxic          1000 non-null   int8  \n",
      " 3   severe_toxic   1000 non-null   int8  \n",
      " 4   obscene        1000 non-null   int8  \n",
      " 5   threat         1000 non-null   int8  \n",
      " 6   insult         1000 non-null   int8  \n",
      " 7   identity_hate  1000 non-null   int8  \n",
      "dtypes: int8(6), object(2)\n",
      "memory usage: 582.3 KB\n"
     ]
    }
   ],
   "source": [
    "df.info(memory_usage='deep')"
   ]
  },
  {
   "cell_type": "code",
   "execution_count": 6,
   "id": "122d857f-ee07-447b-a6a1-d1fcbdce29ba",
   "metadata": {},
   "outputs": [],
   "source": [
    "import spacy"
   ]
  },
  {
   "cell_type": "code",
   "execution_count": 7,
   "id": "bcec21e3-841e-44ce-8c7c-8775b4b26bac",
   "metadata": {},
   "outputs": [],
   "source": [
    "nlp = spacy.load('en_core_web_sm') # Model needs to downloaded: python -m spacy download en_core_web_sm "
   ]
  },
  {
   "cell_type": "code",
   "execution_count": 8,
   "id": "7d2b3cfb-44e2-40f1-b876-1dca6522cbbf",
   "metadata": {},
   "outputs": [],
   "source": [
    "def lower_replace(series):\n",
    "    res = series.str.lower()\n",
    "    res = res.str.replace(r'[^\\w\\s]', '', regex=True)\n",
    "    res = res.str.replace(r'\\d','', regex=True)\n",
    "    res = res.str.replace('\\n', ' ', regex=False)\n",
    "    res = res.str.replace('\\t', ' ', regex=False)\n",
    "    res = res.str.replace('\\r', ' ', regex=False)\n",
    "    res = res.str.replace(r'\\s+', ' ', regex=True)\n",
    "    return res\n",
    "    \n",
    "def tokenize_lemmatize(text, remove_stop=True):\n",
    "    doc = nlp(text)\n",
    "    norm = []\n",
    "    if remove_stop:\n",
    "        norm = [token.lemma_ for token in doc if not token.is_stop and (len(token.text) > 1 or token.text=='i')]\n",
    "    else:\n",
    "        norm = [token.lemma_ for token in doc if len(token.text) > 1 or token.text=='i']\n",
    "    return ' '.join(norm)"
   ]
  },
  {
   "cell_type": "code",
   "execution_count": 9,
   "id": "38b60597-8d9d-470a-a6b6-c00a7b6fe276",
   "metadata": {},
   "outputs": [],
   "source": [
    "def normalize_text(series, remove_stop_words=True):\n",
    "    res = lower_replace(series)\n",
    "    res = res.apply(tokenize_lemmatize, remove_stop=remove_stop_words)\n",
    "    return res"
   ]
  },
  {
   "cell_type": "code",
   "execution_count": null,
   "id": "38e5ad9b-1915-4d9b-8214-2e2a0540506e",
   "metadata": {},
   "outputs": [],
   "source": []
  },
  {
   "cell_type": "code",
   "execution_count": 10,
   "id": "aeb1f0b0-b06c-4322-a66c-5be6c2ba5c4f",
   "metadata": {},
   "outputs": [],
   "source": [
    "df.insert(loc=2,column='text_clean_nostop',value=normalize_text(df.comment_text))\n",
    "df.insert(loc=3,column='text_clean_withstop',value=normalize_text(df.comment_text, remove_stop_words=False))\n",
    "#df.insert(loc=2,column='text_clean_nostop',value=pd.read_pickle('text_clean_nostop.pkl'))\n",
    "#df.insert(loc=3,column='text_clean_withstop',value=pd.read_pickle('text_clean_withstop.pkl'))\n",
    "pd.to_pickle(df.text_clean_nostop, 'text_clean_nostop.pkl')\n",
    "pd.to_pickle(df.text_clean_withstop, 'text_clean_withstop.pkl')"
   ]
  },
  {
   "cell_type": "code",
   "execution_count": 11,
   "id": "a80dcefb-7e13-446f-9d8e-a6c0cf424870",
   "metadata": {
    "scrolled": true
   },
   "outputs": [
    {
     "data": {
      "text/html": [
       "<div>\n",
       "<style scoped>\n",
       "    .dataframe tbody tr th:only-of-type {\n",
       "        vertical-align: middle;\n",
       "    }\n",
       "\n",
       "    .dataframe tbody tr th {\n",
       "        vertical-align: top;\n",
       "    }\n",
       "\n",
       "    .dataframe thead th {\n",
       "        text-align: right;\n",
       "    }\n",
       "</style>\n",
       "<table border=\"1\" class=\"dataframe\">\n",
       "  <thead>\n",
       "    <tr style=\"text-align: right;\">\n",
       "      <th></th>\n",
       "      <th>id</th>\n",
       "      <th>comment_text</th>\n",
       "      <th>text_clean_nostop</th>\n",
       "      <th>text_clean_withstop</th>\n",
       "      <th>toxic</th>\n",
       "      <th>severe_toxic</th>\n",
       "      <th>obscene</th>\n",
       "      <th>threat</th>\n",
       "      <th>insult</th>\n",
       "      <th>identity_hate</th>\n",
       "    </tr>\n",
       "  </thead>\n",
       "  <tbody>\n",
       "    <tr>\n",
       "      <th>0</th>\n",
       "      <td>003a19c04c079bf7</td>\n",
       "      <td>LACK OF BALANCE\\r\\n\\r\\nThis article is seriously out of balance.  It would benefit greatly from the introduction of additional information about the negative aspects of the T-34.  Just for the record, this sort of balance problem is not uncommon when there is an over dependence on the works of a particular author.  For example, testing and evaluation of a T-34 by the US Army Ordnance Dept. exposed some very serious problems with the tank.  This type of information should be included in the article to bring it back into balance.</td>\n",
       "      <td>lack balance article seriously balance benefit greatly introduction additional information negative aspect record sort balance problem uncommon dependence work particular author example testing evaluation army ordnance dept expose problem tank type information include article bring balance</td>\n",
       "      <td>lack of balance this article be seriously out of balance it would benefit greatly from the introduction of additional information about the negative aspect of the just for the record this sort of balance problem be not uncommon when there be an over dependence on the work of particular author for example testing and evaluation of by the us army ordnance dept expose some very serious problem with the tank this type of information should be include in the article to bring it back into balance</td>\n",
       "      <td>0</td>\n",
       "      <td>0</td>\n",
       "      <td>0</td>\n",
       "      <td>0</td>\n",
       "      <td>0</td>\n",
       "      <td>0</td>\n",
       "    </tr>\n",
       "    <tr>\n",
       "      <th>1</th>\n",
       "      <td>001ffdcc3e7fb49c</td>\n",
       "      <td>Awesome! Then I'll simply disregard your notice. Thanks!</td>\n",
       "      <td>awesome ill simply disregard notice thank</td>\n",
       "      <td>awesome then ill simply disregard your notice thank</td>\n",
       "      <td>0</td>\n",
       "      <td>0</td>\n",
       "      <td>0</td>\n",
       "      <td>0</td>\n",
       "      <td>0</td>\n",
       "      <td>0</td>\n",
       "    </tr>\n",
       "    <tr>\n",
       "      <th>2</th>\n",
       "      <td>0294749a6add04c9</td>\n",
       "      <td>Feather \\r\\n\\r\\nThere is no citation as to how a quill looked in the past. Therefore, it is opinion only.</td>\n",
       "      <td>feather citation quill look past opinion</td>\n",
       "      <td>feather there be no citation as to how quill look in the past therefore it be opinion only</td>\n",
       "      <td>0</td>\n",
       "      <td>0</td>\n",
       "      <td>0</td>\n",
       "      <td>0</td>\n",
       "      <td>0</td>\n",
       "      <td>0</td>\n",
       "    </tr>\n",
       "    <tr>\n",
       "      <th>3</th>\n",
       "      <td>009a3333aa4ac011</td>\n",
       "      <td>|listas = Sabina of Bavaria</td>\n",
       "      <td>listas sabina bavaria</td>\n",
       "      <td>listas sabina of bavaria</td>\n",
       "      <td>0</td>\n",
       "      <td>0</td>\n",
       "      <td>0</td>\n",
       "      <td>0</td>\n",
       "      <td>0</td>\n",
       "      <td>0</td>\n",
       "    </tr>\n",
       "    <tr>\n",
       "      <th>4</th>\n",
       "      <td>00a216c00b90ce88</td>\n",
       "      <td>Gore response \\r\\n\\r\\nCan anybody find Gore's response to Bush's malaprop? Why didn't Gore, as the inventor of the darn thing, club him silly after that one?</td>\n",
       "      <td>gore response anybody find gore response bushs malaprop not gore inventor darn thing club silly</td>\n",
       "      <td>gore response can anybody find gore response to bushs malaprop why do not gore as the inventor of the darn thing club he silly after that one</td>\n",
       "      <td>0</td>\n",
       "      <td>0</td>\n",
       "      <td>0</td>\n",
       "      <td>0</td>\n",
       "      <td>0</td>\n",
       "      <td>0</td>\n",
       "    </tr>\n",
       "  </tbody>\n",
       "</table>\n",
       "</div>"
      ],
      "text/plain": [
       "                 id  \\\n",
       "0  003a19c04c079bf7   \n",
       "1  001ffdcc3e7fb49c   \n",
       "2  0294749a6add04c9   \n",
       "3  009a3333aa4ac011   \n",
       "4  00a216c00b90ce88   \n",
       "\n",
       "                                                                                                                                                                                                                                                                                                                                                                                                                                                                                                                                            comment_text  \\\n",
       "0  LACK OF BALANCE\\r\\n\\r\\nThis article is seriously out of balance.  It would benefit greatly from the introduction of additional information about the negative aspects of the T-34.  Just for the record, this sort of balance problem is not uncommon when there is an over dependence on the works of a particular author.  For example, testing and evaluation of a T-34 by the US Army Ordnance Dept. exposed some very serious problems with the tank.  This type of information should be included in the article to bring it back into balance.   \n",
       "1                                                                                                                                                                                                                                                                                                                                                                                                                                                                                               Awesome! Then I'll simply disregard your notice. Thanks!   \n",
       "2                                                                                                                                                                                                                                                                                                                                                                                                                                              Feather \\r\\n\\r\\nThere is no citation as to how a quill looked in the past. Therefore, it is opinion only.   \n",
       "3                                                                                                                                                                                                                                                                                                                                                                                                                                                                                                                            |listas = Sabina of Bavaria   \n",
       "4                                                                                                                                                                                                                                                                                                                                                                                          Gore response \\r\\n\\r\\nCan anybody find Gore's response to Bush's malaprop? Why didn't Gore, as the inventor of the darn thing, club him silly after that one?   \n",
       "\n",
       "                                                                                                                                                                                                                                                                                    text_clean_nostop  \\\n",
       "0  lack balance article seriously balance benefit greatly introduction additional information negative aspect record sort balance problem uncommon dependence work particular author example testing evaluation army ordnance dept expose problem tank type information include article bring balance   \n",
       "1                                                                                                                                                                                                                                                           awesome ill simply disregard notice thank   \n",
       "2                                                                                                                                                                                                                                                            feather citation quill look past opinion   \n",
       "3                                                                                                                                                                                                                                                                               listas sabina bavaria   \n",
       "4                                                                                                                                                                                                     gore response anybody find gore response bushs malaprop not gore inventor darn thing club silly   \n",
       "\n",
       "                                                                                                                                                                                                                                                                                                                                                                                                                                                                                               text_clean_withstop  \\\n",
       "0  lack of balance this article be seriously out of balance it would benefit greatly from the introduction of additional information about the negative aspect of the just for the record this sort of balance problem be not uncommon when there be an over dependence on the work of particular author for example testing and evaluation of by the us army ordnance dept expose some very serious problem with the tank this type of information should be include in the article to bring it back into balance   \n",
       "1                                                                                                                                                                                                                                                                                                                                                                                                                                                              awesome then ill simply disregard your notice thank   \n",
       "2                                                                                                                                                                                                                                                                                                                                                                                                                       feather there be no citation as to how quill look in the past therefore it be opinion only   \n",
       "3                                                                                                                                                                                                                                                                                                                                                                                                                                                                                         listas sabina of bavaria   \n",
       "4                                                                                                                                                                                                                                                                                                                                                                    gore response can anybody find gore response to bushs malaprop why do not gore as the inventor of the darn thing club he silly after that one   \n",
       "\n",
       "   toxic  severe_toxic  obscene  threat  insult  identity_hate  \n",
       "0      0             0        0       0       0              0  \n",
       "1      0             0        0       0       0              0  \n",
       "2      0             0        0       0       0              0  \n",
       "3      0             0        0       0       0              0  \n",
       "4      0             0        0       0       0              0  "
      ]
     },
     "execution_count": 11,
     "metadata": {},
     "output_type": "execute_result"
    }
   ],
   "source": [
    "df.head(5)"
   ]
  },
  {
   "cell_type": "markdown",
   "id": "86a3a45a-3e9d-4054-9f44-8f0e676ae6ec",
   "metadata": {},
   "source": [
    "## Step 2. Vectorization"
   ]
  },
  {
   "cell_type": "code",
   "execution_count": 12,
   "id": "d703fdeb-e915-4431-8450-69abe0c6c305",
   "metadata": {},
   "outputs": [],
   "source": [
    "from sklearn.feature_extraction.text import TfidfVectorizer\n",
    "from sklearn.feature_extraction.text import CountVectorizer"
   ]
  },
  {
   "cell_type": "code",
   "execution_count": 13,
   "id": "300184ee-43ec-47bf-b872-93b1cbbf8690",
   "metadata": {},
   "outputs": [],
   "source": [
    "def create_tfidf_df(series, ngram_range=(1,2)):\n",
    "    tv = TfidfVectorizer(ngram_range=ngram_range)\n",
    "    tfidf = tv.fit_transform(series)\n",
    "    tfidf_df = pd.DataFrame.sparse.from_spmatrix(tfidf, columns=tv.get_feature_names_out())\n",
    "    return tfidf_df"
   ]
  },
  {
   "cell_type": "code",
   "execution_count": 14,
   "id": "cc33c7ea-152e-48b0-bff1-bf480e3d589d",
   "metadata": {},
   "outputs": [],
   "source": [
    "def create_countv_df(series, ngram_range=(1,2)):\n",
    "    cv = CountVectorizer(ngram_range=ngram_range)\n",
    "    countv = cv.fit_transform(series)\n",
    "    countv_df = pd.DataFrame.sparse.from_spmatrix(countv, columns=cv.get_feature_names_out())\n",
    "    return countv_df"
   ]
  },
  {
   "cell_type": "code",
   "execution_count": 15,
   "id": "d175336c-c633-4892-8ed6-b570ae614d13",
   "metadata": {},
   "outputs": [],
   "source": [
    "pd.to_pickle(create_tfidf_df(df.text_clean_nostop,ngram_range=(1,2)),'tfidf_nostop_df.pkl')\n",
    "pd.to_pickle(create_tfidf_df(df.text_clean_withstop, ngram_range=(1,2)),'tfidf_withstop_df.pkl')\n",
    "\n",
    "tfidf_nostop_df = pd.read_pickle('tfidf_nostop_df.pkl')\n",
    "tfidf_withstop_df = pd.read_pickle('tfidf_withstop_df.pkl')"
   ]
  },
  {
   "cell_type": "code",
   "execution_count": 16,
   "id": "21860947-018c-4ed1-a03c-86629b725cff",
   "metadata": {},
   "outputs": [],
   "source": [
    "pd.to_pickle(create_countv_df(df.text_clean_nostop,ngram_range=(1,2)), 'countv_nostop_df.pkl')\n",
    "pd.to_pickle(create_countv_df(df.text_clean_withstop, ngram_range=(1,2)), 'countv_withstop_df.pkl')\n",
    " \n",
    "countv_nostop_df = pd.read_pickle('countv_nostop_df.pkl') \n",
    "countv_withstop_df = pd.read_pickle('countv_withstop_df.pkl')"
   ]
  },
  {
   "cell_type": "markdown",
   "id": "0f3cd324-c3d1-41c0-8e41-7f290abefbe3",
   "metadata": {},
   "source": [
    "### Step 3.Train"
   ]
  },
  {
   "cell_type": "code",
   "execution_count": 17,
   "id": "86717161-e168-4a8d-b1d1-bc9617356511",
   "metadata": {},
   "outputs": [],
   "source": [
    "from sklearn.naive_bayes import MultinomialNB\n",
    "from sklearn.linear_model import LogisticRegression\n",
    "from sklearn.multiclass import OneVsRestClassifier\n",
    "from sklearn.model_selection import train_test_split\n",
    "from sklearn.metrics import classification_report, accuracy_score"
   ]
  },
  {
   "cell_type": "code",
   "execution_count": 18,
   "id": "0205e81d-4b28-4d02-9647-393866d7b36c",
   "metadata": {},
   "outputs": [],
   "source": [
    "X_df = pd.read_pickle('countv_nostop_df.pkl')"
   ]
  },
  {
   "cell_type": "code",
   "execution_count": 19,
   "id": "57d03cff-6777-4692-ad3c-98b71090b0a0",
   "metadata": {},
   "outputs": [],
   "source": [
    "y = df[['toxic','severe_toxic','obscene','threat','insult', 'identity_hate']]\n",
    "#y"
   ]
  },
  {
   "cell_type": "code",
   "execution_count": 25,
   "id": "797344b8-c22b-433c-878d-7fdb03ea8590",
   "metadata": {},
   "outputs": [
    {
     "name": "stdout",
     "output_type": "stream",
     "text": [
      "Accuracy: 0.715\n",
      "              precision    recall  f1-score   support\n",
      "\n",
      "           0       0.21      0.43      0.29        23\n",
      "           1       0.00      0.00      0.00         3\n",
      "           2       0.18      0.70      0.29        10\n",
      "           3       0.00      0.00      0.00         1\n",
      "           4       0.17      0.50      0.25        12\n",
      "           5       0.00      0.00      0.00         0\n",
      "\n",
      "   micro avg       0.13      0.47      0.20        49\n",
      "   macro avg       0.09      0.27      0.14        49\n",
      "weighted avg       0.18      0.47      0.25        49\n",
      " samples avg       0.04      0.04      0.04        49\n",
      "\n"
     ]
    }
   ],
   "source": [
    "X_train, X_test, y_train, y_test = train_test_split(X_df, y, test_size=0.2, random_state=42)\n",
    "\n",
    "model=OneVsRestClassifier(MultinomialNB())\n",
    "model.fit(X_train, y_train)\n",
    "\n",
    "y_pred = model.predict(X_test)\n",
    "\n",
    "print(\"Accuracy:\", accuracy_score(y_test, y_pred))\n",
    "print(classification_report(y_test, y_pred, zero_division=0))"
   ]
  },
  {
   "cell_type": "code",
   "execution_count": 26,
   "id": "357e0938-e42d-4cbe-b55e-c32adc5c6429",
   "metadata": {},
   "outputs": [
    {
     "name": "stderr",
     "output_type": "stream",
     "text": [
      "C:\\Users\\Misha\\anaconda3\\envs\\coursework\\Lib\\site-packages\\sklearn\\linear_model\\_logistic.py:1262: FutureWarning: 'multi_class' was deprecated in version 1.5 and will be removed in 1.8. From then on, binary problems will be fit as proper binary  logistic regression models (as if multi_class='ovr' were set). Leave it to its default value to avoid this warning.\n",
      "  warnings.warn(\n",
      "C:\\Users\\Misha\\anaconda3\\envs\\coursework\\Lib\\site-packages\\sklearn\\linear_model\\_logistic.py:1262: FutureWarning: 'multi_class' was deprecated in version 1.5 and will be removed in 1.8. From then on, binary problems will be fit as proper binary  logistic regression models (as if multi_class='ovr' were set). Leave it to its default value to avoid this warning.\n",
      "  warnings.warn(\n",
      "C:\\Users\\Misha\\anaconda3\\envs\\coursework\\Lib\\site-packages\\sklearn\\linear_model\\_logistic.py:1262: FutureWarning: 'multi_class' was deprecated in version 1.5 and will be removed in 1.8. From then on, binary problems will be fit as proper binary  logistic regression models (as if multi_class='ovr' were set). Leave it to its default value to avoid this warning.\n",
      "  warnings.warn(\n",
      "C:\\Users\\Misha\\anaconda3\\envs\\coursework\\Lib\\site-packages\\sklearn\\linear_model\\_logistic.py:1262: FutureWarning: 'multi_class' was deprecated in version 1.5 and will be removed in 1.8. From then on, binary problems will be fit as proper binary  logistic regression models (as if multi_class='ovr' were set). Leave it to its default value to avoid this warning.\n",
      "  warnings.warn(\n",
      "C:\\Users\\Misha\\anaconda3\\envs\\coursework\\Lib\\site-packages\\sklearn\\linear_model\\_logistic.py:1262: FutureWarning: 'multi_class' was deprecated in version 1.5 and will be removed in 1.8. From then on, binary problems will be fit as proper binary  logistic regression models (as if multi_class='ovr' were set). Leave it to its default value to avoid this warning.\n",
      "  warnings.warn(\n",
      "C:\\Users\\Misha\\anaconda3\\envs\\coursework\\Lib\\site-packages\\sklearn\\linear_model\\_logistic.py:1262: FutureWarning: 'multi_class' was deprecated in version 1.5 and will be removed in 1.8. From then on, binary problems will be fit as proper binary  logistic regression models (as if multi_class='ovr' were set). Leave it to its default value to avoid this warning.\n",
      "  warnings.warn(\n"
     ]
    },
    {
     "name": "stdout",
     "output_type": "stream",
     "text": [
      "Accuracy: 0.89\n",
      "              precision    recall  f1-score   support\n",
      "\n",
      "           0       1.00      0.22      0.36        23\n",
      "           1       0.00      0.00      0.00         3\n",
      "           2       1.00      0.20      0.33        10\n",
      "           3       0.00      0.00      0.00         1\n",
      "           4       0.50      0.08      0.14        12\n",
      "           5       0.00      0.00      0.00         0\n",
      "\n",
      "   micro avg       0.89      0.16      0.28        49\n",
      "   macro avg       0.42      0.08      0.14        49\n",
      "weighted avg       0.80      0.16      0.27        49\n",
      " samples avg       0.02      0.01      0.02        49\n",
      "\n"
     ]
    }
   ],
   "source": [
    "X_train, X_test, y_train, y_test = train_test_split(X_df, y, test_size=0.2, random_state=42)\n",
    "\n",
    "model = OneVsRestClassifier(LogisticRegression(multi_class='multinomial', solver='lbfgs', max_iter=500))\n",
    "model.fit(X_train, y_train)\n",
    "\n",
    "y_pred = model.predict(X_test)\n",
    "\n",
    "print(\"Accuracy:\", accuracy_score(y_test, y_pred))\n",
    "print(classification_report(y_test, y_pred, zero_division=0))"
   ]
  },
  {
   "cell_type": "code",
   "execution_count": null,
   "id": "4bb1b1e4-afb4-4b7a-bd15-31633d5020e7",
   "metadata": {},
   "outputs": [],
   "source": []
  }
 ],
 "metadata": {
  "kernelspec": {
   "display_name": "Python 3 (ipykernel)",
   "language": "python",
   "name": "python3"
  },
  "language_info": {
   "codemirror_mode": {
    "name": "ipython",
    "version": 3
   },
   "file_extension": ".py",
   "mimetype": "text/x-python",
   "name": "python",
   "nbconvert_exporter": "python",
   "pygments_lexer": "ipython3",
   "version": "3.12.11"
  }
 },
 "nbformat": 4,
 "nbformat_minor": 5
}
