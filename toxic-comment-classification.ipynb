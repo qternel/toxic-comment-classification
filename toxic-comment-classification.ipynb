{
 "cells": [
  {
   "cell_type": "markdown",
   "id": "c560f511-cb1d-49ff-9e51-d25addd81f8d",
   "metadata": {},
   "source": [
    "## Step 1. EDA"
   ]
  },
  {
   "cell_type": "code",
   "execution_count": 73,
   "id": "e458bb02-1459-4753-ad51-0e443c3821c8",
   "metadata": {},
   "outputs": [],
   "source": [
    "import pandas as pd"
   ]
  },
  {
   "cell_type": "code",
   "execution_count": 74,
   "id": "deb82a1d-5146-4a25-991c-7ae2fb044d28",
   "metadata": {},
   "outputs": [],
   "source": [
    "df = pd.read_csv('data/train.csv', \n",
    "                 dtype={'toxic':'int8',\n",
    "                        'severe_toxic':'int8',\n",
    "                        'obscene':'int8', \n",
    "                        'threat':'int8',\n",
    "                        'insult':'int8',\n",
    "                        'identity_hate':'int8'})"
   ]
  },
  {
   "cell_type": "code",
   "execution_count": 75,
   "id": "554405a2-d1dd-4584-9c60-3ea86674a080",
   "metadata": {},
   "outputs": [],
   "source": [
    "pd.set_option('display.max_colwidth', None)"
   ]
  },
  {
   "cell_type": "code",
   "execution_count": 87,
   "id": "67334dc7-6ac9-41c0-b432-9a81b5b05856",
   "metadata": {},
   "outputs": [
    {
     "name": "stdout",
     "output_type": "stream",
     "text": [
      "<class 'pandas.core.frame.DataFrame'>\n",
      "RangeIndex: 159571 entries, 0 to 159570\n",
      "Data columns (total 10 columns):\n",
      " #   Column               Non-Null Count   Dtype \n",
      "---  ------               --------------   ----- \n",
      " 0   id                   159571 non-null  object\n",
      " 1   comment_text         159571 non-null  object\n",
      " 2   text_clean_nostop    159571 non-null  object\n",
      " 3   text_clean_withstop  159571 non-null  object\n",
      " 4   toxic                159571 non-null  int8  \n",
      " 5   severe_toxic         159571 non-null  int8  \n",
      " 6   obscene              159571 non-null  int8  \n",
      " 7   threat               159571 non-null  int8  \n",
      " 8   insult               159571 non-null  int8  \n",
      " 9   identity_hate        159571 non-null  int8  \n",
      "dtypes: int8(6), object(4)\n",
      "memory usage: 192.4 MB\n"
     ]
    }
   ],
   "source": [
    "#df\n",
    "df.info(memory_usage='deep')"
   ]
  },
  {
   "cell_type": "code",
   "execution_count": 77,
   "id": "122d857f-ee07-447b-a6a1-d1fcbdce29ba",
   "metadata": {},
   "outputs": [],
   "source": [
    "import spacy"
   ]
  },
  {
   "cell_type": "code",
   "execution_count": 78,
   "id": "bcec21e3-841e-44ce-8c7c-8775b4b26bac",
   "metadata": {},
   "outputs": [],
   "source": [
    "nlp = spacy.load('en_core_web_sm') # Model needs to downloaded: python -m spacy download en_core_web_sm "
   ]
  },
  {
   "cell_type": "code",
   "execution_count": 79,
   "id": "7d2b3cfb-44e2-40f1-b876-1dca6522cbbf",
   "metadata": {},
   "outputs": [],
   "source": [
    "def lower_replace(series):\n",
    "    res = series.str.lower()\n",
    "    res = res.str.replace(r'[^\\w\\s]', '', regex=True)\n",
    "    res = res.str.replace(r'\\d','', regex=True)\n",
    "    res = res.str.replace('\\n', ' ', regex=False)\n",
    "    res = res.str.replace('\\t', ' ', regex=False)\n",
    "    res = res.str.replace('\\r', ' ', regex=False)\n",
    "    res = res.str.replace(r'\\s+', ' ', regex=True)\n",
    "    return res\n",
    "    \n",
    "def tokenize_lemmatize(text, remove_stop=True):\n",
    "    doc = nlp(text)\n",
    "    norm = []\n",
    "    if remove_stop:\n",
    "        norm = [token.lemma_ for token in doc if not token.is_stop and (len(token.text) > 1 or token.text=='i')]\n",
    "    else:\n",
    "        norm = [token.lemma_ for token in doc if len(token.text) > 1 or token.text=='i']\n",
    "    return ' '.join(norm)"
   ]
  },
  {
   "cell_type": "code",
   "execution_count": 80,
   "id": "38b60597-8d9d-470a-a6b6-c00a7b6fe276",
   "metadata": {},
   "outputs": [],
   "source": [
    "def normalize_text(series, remove_stop_words=True):\n",
    "    res = lower_replace(series)\n",
    "    res = res.apply(tokenize_lemmatize, remove_stop=remove_stop_words)\n",
    "    return res"
   ]
  },
  {
   "cell_type": "code",
   "execution_count": 81,
   "id": "aeb1f0b0-b06c-4322-a66c-5be6c2ba5c4f",
   "metadata": {},
   "outputs": [],
   "source": [
    "# df.insert(loc=2,column='text_clean_nostop',value=normalize_text(df.comment_text))\n",
    "# df.insert(loc=3,column='text_clean_withstop',value=normalize_text(df.comment_text, remove_stop_words=False))\n",
    "df.insert(loc=2,column='text_clean_nostop',value=pd.read_pickle('text_clean_nostop.pkl'))\n",
    "df.insert(loc=3,column='text_clean_withstop',value=pd.read_pickle('text_clean_withstop.pkl'))"
   ]
  },
  {
   "cell_type": "code",
   "execution_count": 82,
   "id": "a80dcefb-7e13-446f-9d8e-a6c0cf424870",
   "metadata": {
    "scrolled": true
   },
   "outputs": [
    {
     "data": {
      "text/html": [
       "<div>\n",
       "<style scoped>\n",
       "    .dataframe tbody tr th:only-of-type {\n",
       "        vertical-align: middle;\n",
       "    }\n",
       "\n",
       "    .dataframe tbody tr th {\n",
       "        vertical-align: top;\n",
       "    }\n",
       "\n",
       "    .dataframe thead th {\n",
       "        text-align: right;\n",
       "    }\n",
       "</style>\n",
       "<table border=\"1\" class=\"dataframe\">\n",
       "  <thead>\n",
       "    <tr style=\"text-align: right;\">\n",
       "      <th></th>\n",
       "      <th>id</th>\n",
       "      <th>comment_text</th>\n",
       "      <th>text_clean_nostop</th>\n",
       "      <th>text_clean_withstop</th>\n",
       "      <th>toxic</th>\n",
       "      <th>severe_toxic</th>\n",
       "      <th>obscene</th>\n",
       "      <th>threat</th>\n",
       "      <th>insult</th>\n",
       "      <th>identity_hate</th>\n",
       "    </tr>\n",
       "  </thead>\n",
       "  <tbody>\n",
       "    <tr>\n",
       "      <th>0</th>\n",
       "      <td>0000997932d777bf</td>\n",
       "      <td>Explanation\\r\\nWhy the edits made under my username Hardcore Metallica Fan were reverted? They weren't vandalisms, just closure on some GAs after I voted at New York Dolls FAC. And please don't remove the template from the talk page since I'm retired now.89.205.38.27</td>\n",
       "      <td>explanation edit username hardcore metallica fan revert not vandalism closure gas vote new york doll fac not remove template talk page retire</td>\n",
       "      <td>explanation why the edit make under my username hardcore metallica fan be revert they be not vandalism just closure on some gas after I vote at new york doll fac and please do not remove the template from the talk page since I retire now</td>\n",
       "      <td>0</td>\n",
       "      <td>0</td>\n",
       "      <td>0</td>\n",
       "      <td>0</td>\n",
       "      <td>0</td>\n",
       "      <td>0</td>\n",
       "    </tr>\n",
       "    <tr>\n",
       "      <th>1</th>\n",
       "      <td>000103f0d9cfb60f</td>\n",
       "      <td>D'aww! He matches this background colour I'm seemingly stuck with. Thanks.  (talk) 21:51, January 11, 2016 (UTC)</td>\n",
       "      <td>daww match background colour seemingly stick thank talk january utc</td>\n",
       "      <td>daww he match this background colour I seemingly stick with thank talk january utc</td>\n",
       "      <td>0</td>\n",
       "      <td>0</td>\n",
       "      <td>0</td>\n",
       "      <td>0</td>\n",
       "      <td>0</td>\n",
       "      <td>0</td>\n",
       "    </tr>\n",
       "    <tr>\n",
       "      <th>2</th>\n",
       "      <td>000113f07ec002fd</td>\n",
       "      <td>Hey man, I'm really not trying to edit war. It's just that this guy is constantly removing relevant information and talking to me through edits instead of my talk page. He seems to care more about the formatting than the actual info.</td>\n",
       "      <td>hey man try edit war guy constantly remove relevant information talk edit instead talk page care formatting actual info</td>\n",
       "      <td>hey man I really not try to edit war its just that this guy be constantly remove relevant information and talk to I through edit instead of my talk page he seem to care more about the formatting than the actual info</td>\n",
       "      <td>0</td>\n",
       "      <td>0</td>\n",
       "      <td>0</td>\n",
       "      <td>0</td>\n",
       "      <td>0</td>\n",
       "      <td>0</td>\n",
       "    </tr>\n",
       "    <tr>\n",
       "      <th>3</th>\n",
       "      <td>0001b41b1c6bb37e</td>\n",
       "      <td>\"\\r\\nMore\\r\\nI can't make any real suggestions on improvement - I wondered if the section statistics should be later on, or a subsection of \"\"types of accidents\"\"  -I think the references may need tidying so that they are all in the exact same format ie date format etc. I can do that later on, if no-one else does first - if you have any preferences for formatting style on references or want to do it yourself please let me know.\\r\\n\\r\\nThere appears to be a backlog on articles for review so I guess there may be a delay until a reviewer turns up. It's listed in the relevant form eg Wikipedia:Good_article_nominations#Transport  \"</td>\n",
       "      <td>not real suggestion improvement wonder section statistic later subsection type accident think reference need tidy exact format ie date format etc later preference formatting style reference want let know appear backlog article review guess delay reviewer turn list relevant form eg wikipediagood_article_nominationstransport</td>\n",
       "      <td>more I can not make any real suggestion on improvement I wonder if the section statistic should be later on or subsection of type of accident I think the reference may need tidy so that they be all in the exact same format ie date format etc I can do that later on if noone else do first if you have any preference for formatting style on reference or want to do it yourself please let I know there appear to be backlog on article for review so I guess there may be delay until reviewer turn up its list in the relevant form eg wikipediagood_article_nominationstransport</td>\n",
       "      <td>0</td>\n",
       "      <td>0</td>\n",
       "      <td>0</td>\n",
       "      <td>0</td>\n",
       "      <td>0</td>\n",
       "      <td>0</td>\n",
       "    </tr>\n",
       "    <tr>\n",
       "      <th>4</th>\n",
       "      <td>0001d958c54c6e35</td>\n",
       "      <td>You, sir, are my hero. Any chance you remember what page that's on?</td>\n",
       "      <td>sir hero chance remember page</td>\n",
       "      <td>you sir be my hero any chance you remember what page that on</td>\n",
       "      <td>0</td>\n",
       "      <td>0</td>\n",
       "      <td>0</td>\n",
       "      <td>0</td>\n",
       "      <td>0</td>\n",
       "      <td>0</td>\n",
       "    </tr>\n",
       "  </tbody>\n",
       "</table>\n",
       "</div>"
      ],
      "text/plain": [
       "                 id  \\\n",
       "0  0000997932d777bf   \n",
       "1  000103f0d9cfb60f   \n",
       "2  000113f07ec002fd   \n",
       "3  0001b41b1c6bb37e   \n",
       "4  0001d958c54c6e35   \n",
       "\n",
       "                                                                                                                                                                                                                                                                                                                                                                                                                                                                                                                                                                                                                                                 comment_text  \\\n",
       "0                                                                                                                                                                                                                                                                                                                                                                                 Explanation\\r\\nWhy the edits made under my username Hardcore Metallica Fan were reverted? They weren't vandalisms, just closure on some GAs after I voted at New York Dolls FAC. And please don't remove the template from the talk page since I'm retired now.89.205.38.27   \n",
       "1                                                                                                                                                                                                                                                                                                                                                                                                                                                                                                                                            D'aww! He matches this background colour I'm seemingly stuck with. Thanks.  (talk) 21:51, January 11, 2016 (UTC)   \n",
       "2                                                                                                                                                                                                                                                                                                                                                                                                                   Hey man, I'm really not trying to edit war. It's just that this guy is constantly removing relevant information and talking to me through edits instead of my talk page. He seems to care more about the formatting than the actual info.   \n",
       "3  \"\\r\\nMore\\r\\nI can't make any real suggestions on improvement - I wondered if the section statistics should be later on, or a subsection of \"\"types of accidents\"\"  -I think the references may need tidying so that they are all in the exact same format ie date format etc. I can do that later on, if no-one else does first - if you have any preferences for formatting style on references or want to do it yourself please let me know.\\r\\n\\r\\nThere appears to be a backlog on articles for review so I guess there may be a delay until a reviewer turns up. It's listed in the relevant form eg Wikipedia:Good_article_nominations#Transport  \"   \n",
       "4                                                                                                                                                                                                                                                                                                                                                                                                                                                                                                                                                                                         You, sir, are my hero. Any chance you remember what page that's on?   \n",
       "\n",
       "                                                                                                                                                                                                                                                                                                                      text_clean_nostop  \\\n",
       "0                                                                                                                                                                                         explanation edit username hardcore metallica fan revert not vandalism closure gas vote new york doll fac not remove template talk page retire   \n",
       "1                                                                                                                                                                                                                                                                   daww match background colour seemingly stick thank talk january utc   \n",
       "2                                                                                                                                                                                                               hey man try edit war guy constantly remove relevant information talk edit instead talk page care formatting actual info   \n",
       "3  not real suggestion improvement wonder section statistic later subsection type accident think reference need tidy exact format ie date format etc later preference formatting style reference want let know appear backlog article review guess delay reviewer turn list relevant form eg wikipediagood_article_nominationstransport   \n",
       "4                                                                                                                                                                                                                                                                                                         sir hero chance remember page   \n",
       "\n",
       "                                                                                                                                                                                                                                                                                                                                                                                                                                                                                                                                                                          text_clean_withstop  \\\n",
       "0                                                                                                                                                                                                                                                                                                                                               explanation why the edit make under my username hardcore metallica fan be revert they be not vandalism just closure on some gas after I vote at new york doll fac and please do not remove the template from the talk page since I retire now   \n",
       "1                                                                                                                                                                                                                                                                                                                                                                                                                                                                                                          daww he match this background colour I seemingly stick with thank talk january utc   \n",
       "2                                                                                                                                                                                                                                                                                                                                                                     hey man I really not try to edit war its just that this guy be constantly remove relevant information and talk to I through edit instead of my talk page he seem to care more about the formatting than the actual info   \n",
       "3  more I can not make any real suggestion on improvement I wonder if the section statistic should be later on or subsection of type of accident I think the reference may need tidy so that they be all in the exact same format ie date format etc I can do that later on if noone else do first if you have any preference for formatting style on reference or want to do it yourself please let I know there appear to be backlog on article for review so I guess there may be delay until reviewer turn up its list in the relevant form eg wikipediagood_article_nominationstransport   \n",
       "4                                                                                                                                                                                                                                                                                                                                                                                                                                                                                                                                you sir be my hero any chance you remember what page that on   \n",
       "\n",
       "   toxic  severe_toxic  obscene  threat  insult  identity_hate  \n",
       "0      0             0        0       0       0              0  \n",
       "1      0             0        0       0       0              0  \n",
       "2      0             0        0       0       0              0  \n",
       "3      0             0        0       0       0              0  \n",
       "4      0             0        0       0       0              0  "
      ]
     },
     "execution_count": 82,
     "metadata": {},
     "output_type": "execute_result"
    }
   ],
   "source": [
    "df.head(5)"
   ]
  },
  {
   "cell_type": "code",
   "execution_count": 83,
   "id": "05a3c58d-7aa9-47f4-a4da-c2d82749ec07",
   "metadata": {},
   "outputs": [],
   "source": [
    "#pd.to_pickle(df.text_clean_nostop, 'text_clean_nostop.pkl')\n",
    "#pd.to_pickle(df.text_clean_withstop, 'text_clean_withstop.pkl')"
   ]
  },
  {
   "cell_type": "code",
   "execution_count": null,
   "id": "ddaa0df2-975a-4b42-b2d5-2f9689b7510e",
   "metadata": {},
   "outputs": [],
   "source": []
  },
  {
   "cell_type": "markdown",
   "id": "86a3a45a-3e9d-4054-9f44-8f0e676ae6ec",
   "metadata": {},
   "source": [
    "## Step 2. Vectorization"
   ]
  },
  {
   "cell_type": "code",
   "execution_count": 84,
   "id": "d703fdeb-e915-4431-8450-69abe0c6c305",
   "metadata": {},
   "outputs": [],
   "source": [
    "from sklearn.feature_extraction.text import TfidfVectorizer"
   ]
  },
  {
   "cell_type": "code",
   "execution_count": 85,
   "id": "300184ee-43ec-47bf-b872-93b1cbbf8690",
   "metadata": {},
   "outputs": [],
   "source": [
    "def create_tfidf_df(series, ngram_range=(1,2)):\n",
    "    tv = TfidfVectorizer(ngram_range=ngram_range)\n",
    "    tfidf = tv.fit_transform(series)\n",
    "    tfidf_df = pd.DataFrame.sparse.from_spmatrix(tfidf, columns=tv.get_feature_names_out())\n",
    "    return tfidf_df"
   ]
  },
  {
   "cell_type": "code",
   "execution_count": 86,
   "id": "d175336c-c633-4892-8ed6-b570ae614d13",
   "metadata": {},
   "outputs": [],
   "source": [
    "#tfidf_nostop_df = create_tfidf_df(df.text_clean_nostop,ngram_range=(1,2))\n",
    "\n",
    "#tfidf_withstop_df = create_tfidf_df(df.text_clean_withstop, ngram_range=(1,2))"
   ]
  },
  {
   "cell_type": "code",
   "execution_count": null,
   "id": "21860947-018c-4ed1-a03c-86629b725cff",
   "metadata": {},
   "outputs": [],
   "source": []
  }
 ],
 "metadata": {
  "kernelspec": {
   "display_name": "Python 3 (ipykernel)",
   "language": "python",
   "name": "python3"
  },
  "language_info": {
   "codemirror_mode": {
    "name": "ipython",
    "version": 3
   },
   "file_extension": ".py",
   "mimetype": "text/x-python",
   "name": "python",
   "nbconvert_exporter": "python",
   "pygments_lexer": "ipython3",
   "version": "3.12.11"
  }
 },
 "nbformat": 4,
 "nbformat_minor": 5
}
